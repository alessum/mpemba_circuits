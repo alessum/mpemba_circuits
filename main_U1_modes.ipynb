{
 "cells": [
  {
   "cell_type": "code",
   "execution_count": 25,
   "metadata": {},
   "outputs": [],
   "source": [
    "import numpy as np\n",
    "from functools import reduce\n",
    "import functions as fn\n",
    "from matplotlib import pyplot as plt\n",
    "from matplotlib.colors import LinearSegmentedColormap\n",
    "from tqdm import tqdm\n",
    "from matplotlib.text import Text\n",
    "from circuit_obj import Circuit\n",
    "from itertools import product\n",
    "\n",
    "from matplotlib import cm\n",
    "from matplotlib.colors import LogNorm\n",
    "\n",
    "from scipy.special import comb\n",
    "\n",
    "import warnings\n",
    "\n",
    "# 1) Globally ignore any warning whose text matches “too many iterations”\n",
    "warnings.filterwarnings(\"ignore\", message=\".*too many iterations.*\")\n",
    "\n",
    "# from joblib import Parallel, delayed\n",
    "colors = [\"#394F87\", \"#A0B2E8\", \"#F0BCC1\", \"#7F0E0E\"]\n",
    "cmap1 = LinearSegmentedColormap.from_list(\"custom_cmap\", colors, N=256)\n",
    "norm = plt.Normalize(vmin=0, vmax=np.pi)\n",
    "smJ = plt.cm.ScalarMappable(cmap=cmap1, norm=norm)"
   ]
  },
  {
   "cell_type": "code",
   "execution_count": 26,
   "metadata": {},
   "outputs": [
    {
     "data": {
      "text/plain": [
       "(array([1]), range(12, 20))"
      ]
     },
     "execution_count": 26,
     "metadata": {},
     "output_type": "execute_result"
    }
   ],
   "source": [
    "N = 20\n",
    "\n",
    "# Circuit parameters\n",
    "T = 1000\n",
    "circuit_realizations = 2\n",
    "symmetry = ['U1', 'SU2', 'Z2', 'ZK'][0]\n",
    "geometry = ['random', 'brickwork'][1]\n",
    "alphaT = 1 # Parameter to slice the circuit thinner\n",
    "\n",
    "# Mask parameters\n",
    "sites_to_keep = range((N-8), N)\n",
    "qkeep = np.array(sites_to_keep)\n",
    "qthrow = np.arange(N)[np.isin(np.arange(N), qkeep, invert=True)]\n",
    "Ns = len(sites_to_keep)\n",
    "\n",
    "Ne = N - Ns\n",
    "projectors_s, U_U1_s = fn.build_projectors(Ns) \n",
    "projectors_e, U_U1_e = fn.build_projectors(Ne)\n",
    "sectors_se = np.array([int(comb(N, int(N/2+m))) for m in np.arange(-N/2, N/2+1)])\n",
    "sectors_s = np.array([int(comb(Ns, int(Ns/2+m))) for m in np.arange(-Ns/2, Ns/2+1)])\n",
    "sectors_e = np.array([int(comb(Ne, int(Ne/2+m))) for m in np.arange(-Ne/2, Ne/2+1)])\n",
    "\n",
    "masks_dict = fn.load_mask_memory(N, (2 if symmetry!='ZK' else K))\n",
    "\n",
    "alphas = np.array([1]) # np.r_[np.linspace(0.1, 2, 10)]\n",
    "qthrow = np.arange(N)[np.isin(np.arange(N), sites_to_keep, invert=True)]\n",
    "alphas, sites_to_keep"
   ]
  },
  {
   "cell_type": "code",
   "execution_count": 27,
   "metadata": {},
   "outputs": [],
   "source": [
    "def initial_state_test(target_sector):\n",
    "    '''\n",
    "    Create the \n",
    "    l state as (R_y(theta) |J_max>_Ns) tensor (|J_max>_Ne)\n",
    "    '''\n",
    "    assert target_sector <= Ns, \"target_sector must be less than/eq the number of qubits in the system\"\n",
    "    \n",
    "    # system:\n",
    "    state_s = np.zeros(2**(len(qkeep)), dtype=np.complex128)\n",
    "    cum_sectors_s = np.cumsum(sectors_s)\n",
    "    \n",
    "    if target_sector == int(target_sector):\n",
    "        tgt = int(target_sector)\n",
    "        element = cum_sectors_s[tgt-1] if tgt > 0 else 0\n",
    "        element += sectors_s[tgt]//2\n",
    "        state_s[element] = 1\n",
    "        state_s[-element-1] = 1\n",
    "    else:\n",
    "        tgt = int(np.ceil(target_sector))\n",
    "        element = cum_sectors_s[tgt-1] if tgt > 0 else 0\n",
    "        element += sectors_s[tgt]//2\n",
    "        state_s[element] = 1\n",
    "        tgt = int(np.floor(target_sector))\n",
    "        element = cum_sectors_s[tgt-1] if tgt > 0 else 0\n",
    "        element += sectors_s[tgt]//2\n",
    "        state_s[-element-1] = 1\n",
    "    \n",
    "    state_s /= np.linalg.norm(state_s)\n",
    "    state_s = U_U1_s @ state_s\n",
    "        \n",
    "    #environment:\n",
    "    state_e = np.zeros(2**(len(qthrow)), dtype=np.complex128)\n",
    "    \n",
    "    if not Ne % 2: # even\n",
    "        size_zero_sector = sectors_e[Ne//2]\n",
    "        start = (2**Ne - size_zero_sector)//2\n",
    "        end = start + size_zero_sector\n",
    "        state_e[start:end] = 1\n",
    "    else:\n",
    "        size_zero_sector = sectors_e[Ne//2]\n",
    "        start = (2**Ne - 2*size_zero_sector)//2\n",
    "        end = start + size_zero_sector\n",
    "        state_e[start:end] = 1\n",
    "        \n",
    "    state_e = U_U1_e @ state_e\n",
    "    \n",
    "    state_e /= np.linalg.norm(state_e)\n",
    "\n",
    "    return np.kron(state_e, state_s)"
   ]
  },
  {
   "cell_type": "code",
   "execution_count": 28,
   "metadata": {},
   "outputs": [
    {
     "name": "stdout",
     "output_type": "stream",
     "text": [
      "SYS:  ['0: 1.00', '1: 0.87', '2: 0.61', '3: 0.36', '4: 0.17', '5: 0.07', '6: 0.02', '7: 0.01', '8: 0.00']\n",
      "SYS:  ['0: 1.00', '1: 0.93', '2: 0.74', '3: 0.50', '4: 0.29', '5: 0.14', '6: 0.05', '7: 0.02', '8: 0.00']\n",
      "SYS:  ['0: 1.00', '1: 0.94', '2: 0.77', '3: 0.55', '4: 0.34', '5: 0.18', '6: 0.07', '7: 0.02', '8: 0.00']\n"
     ]
    },
    {
     "data": {
      "text/plain": [
       "[(0.9424777960769379, 1.5139535190379647),\n",
       " (1.2566370614359172, 1.7060443373693635),\n",
       " (1.5707963267948966, 1.7635033290792461)]"
      ]
     },
     "execution_count": 28,
     "metadata": {},
     "output_type": "execute_result"
    },
    {
     "data": {
      "image/png": "[encoded data removed]",
      "text/plain": [
       "<Figure size 1600x800 with 3 Axes>"
      ]
     },
     "metadata": {},
     "output_type": "display_data"
    },
    {
     "data": {
      "image/png": "[encoded data removed]",
      "text/plain": [
       "<Figure size 1600x800 with 3 Axes>"
      ]
     },
     "metadata": {},
     "output_type": "display_data"
    }
   ],
   "source": [
    "thetas = np.array([.3, .4, .5])*np.pi # theta\n",
    "\n",
    "\n",
    "fig2, axs = plt.subplots(1, len(thetas), figsize=(16, 8))\n",
    "fig3, ax1s = plt.subplots(1, len(thetas), figsize=(16, 8))\n",
    "    \n",
    "renyis = []\n",
    "for idx, theta in enumerate(thetas):\n",
    "    # state = initial_state_test(theta)\n",
    "    state = fn.initial_state(N, sites_to_keep, theta, 'homogenous')\n",
    "    \n",
    "    rho_s = fn.ptrace(state, sites_to_keep)\n",
    "    rho_s_U1 = U_U1_s.conj().T @ (rho_s) @ U_U1_s\n",
    "    \n",
    "    rho_s_tw = fn.manual_U1_tw(rho_s, projectors_s)\n",
    "    rho_s_tw_U1 = U_U1_s.conj().T @ (rho_s_tw) @ U_U1_s\n",
    "    \n",
    "    cmap = cm.plasma.copy()\n",
    "    cmap.set_bad(color='white')  # or 'none' for full transparency\n",
    "    \n",
    "    d1 = np.ma.masked_less(np.abs(rho_s_U1), 1e-12)\n",
    "    im = axs[idx].imshow(d1, cmap=cmap, norm=LogNorm(1e-12, 1e0), interpolation='none') \n",
    "    \n",
    "    d1 = np.ma.masked_less(np.abs(rho_s_tw_U1), 1e-12)\n",
    "    im = ax1s[idx].imshow(d1, cmap=cmap, norm=LogNorm(1e-12, 1e0), interpolation='none') \n",
    "    \n",
    "    rho_modes = fn.asymmetry_modes(rho_s_U1, sectors_s)\n",
    "    print('SYS: ', [f'{omega_idx}: {fn.compute_norm(rho_omega):.2f}' for omega_idx, rho_omega in enumerate(rho_modes)])\n",
    "    \n",
    "    renyis.append((fn.renyi_divergence_sym(rho_s, symmetry, 1).real))\n",
    "[*zip(thetas, renyis)]\n"
   ]
  },
  {
   "cell_type": "code",
   "execution_count": 29,
   "metadata": {},
   "outputs": [],
   "source": [
    "if Ne < 12:\n",
    "    \n",
    "    fig2, axs = plt.subplots(1, 2, figsize=(16, 8))\n",
    "\n",
    "    state = initial_state_test(theta)\n",
    "\n",
    "    rho_e = fn.ptrace(state, qthrow)\n",
    "\n",
    "    rho_e_tw = fn.manual_U1_tw(rho_e, projectors_e)\n",
    "\n",
    "    cmap = cm.plasma.copy()\n",
    "    cmap.set_bad(color='white')  # or 'none' for full transparency\n",
    "\n",
    "    d1 = np.ma.masked_less(np.abs(U_U1_e.conj().T @ (rho_e) @ U_U1_e), 1e-12)\n",
    "    im = axs[0].imshow(d1, cmap=cmap, norm=LogNorm(1e-12, 1e0), interpolation='none') \n",
    "\n",
    "    d1 = np.ma.masked_less(np.abs(U_U1_e.conj().T @ (rho_e - rho_e_tw) @ U_U1_e), 1e-12)\n",
    "    im = axs[1].imshow(d1, cmap=cmap, norm=LogNorm(1e-12, 1e0), interpolation='none') \n",
    "        \n",
    "    rho_e_U1 = U_U1_e.conj().T @ (rho_e) @ U_U1_e\n",
    "    rho_modes = fn.asymmetry_modes(rho_e_U1, sectors_e)\n",
    "    print('ENV: ', [f'{omega_idx}: {fn.compute_norm(rho_omega):.2f}' for omega_idx, rho_omega in enumerate(rho_modes)])\n",
    "\n",
    "    print((fn.renyi_divergence_sym(rho_e, symmetry, 1).real))\n"
   ]
  },
  {
   "cell_type": "code",
   "execution_count": 30,
   "metadata": {},
   "outputs": [
    {
     "name": "stdout",
     "output_type": "stream",
     "text": [
      "theta: 0.9424777960769379\n",
      "SYS:  ['0: 1.000', '1: 0.869', '2: 0.614', '3: 0.357', '4: 0.172', '5: 0.068', '6: 0.021', '7: 0.005', '8: 0.001']\n",
      "theta: 1.2566370614359172\n",
      "SYS:  ['0: 1.000', '1: 0.925', '2: 0.737', '3: 0.503', '4: 0.292', '5: 0.141', '6: 0.054', '7: 0.016', '8: 0.003']\n",
      "theta: 1.5707963267948966\n",
      "SYS:  ['0: 1.000', '1: 0.938', '2: 0.771', '3: 0.553', '4: 0.340', '5: 0.175', '6: 0.073', '7: 0.022', '8: 0.004']\n"
     ]
    }
   ],
   "source": [
    "from scipy.special import comb\n",
    "# given an initial state see how the modes are already populated \n",
    "\n",
    "# fig, axs = plt.subplots(len(thetas), N+1, figsize=(22, 16))\n",
    "# fig, axs = plt.subplots(3, 3, figsize=(22, 16))\n",
    "renyis = []\n",
    "for theta_idx, theta in enumerate(thetas[:]):\n",
    "    print(f'theta: {theta}')\n",
    "\n",
    "    rho = fn.initial_state(N, sites_to_keep, theta, 'homogenous') # initial_state_test(theta)\n",
    "\n",
    "    rho_s = fn.ptrace(rho, sites_to_keep)\n",
    "    rho_e = fn.ptrace(rho, qthrow)\n",
    "\n",
    "    # rho = U_U1_se.conj().T @ state @ U_U1_se\n",
    "    # rho_modes = fn.asymmetry_modes(rho, sectors_se)\n",
    "    # print([f'{omega_idx}: {fn.compute_norm(rho_omega):.2f}' for omega_idx, rho_omega in enumerate(rho_modes)])\n",
    "    \n",
    "    rho_s = U_U1_s.conj().T @ rho_s @ U_U1_s\n",
    "    rho_modes = fn.asymmetry_modes(rho_s, sectors_s)\n",
    "    print('SYS: ', [f'{omega_idx}: {fn.compute_norm(rho_omega):.3f}' for omega_idx, rho_omega in enumerate(rho_modes)])\n",
    "\n",
    "    # rho_e = U_U1_e.conj().T @ rho_e @ U_U1_e\n",
    "    # rho_modes = fn.asymmetry_modes(rho_e, sectors_e)\n",
    "    # print('ENV:', end=' ')\n",
    "    # for omega_idx, rho_omega in enumerate(rho_modes):\n",
    "    #     fn.compute_norm(rho_omega)\n",
    "    #     print(f'{omega_idx}: {fn.compute_norm(rho_omega):.2f}', end=' ')\n",
    "\n",
    "        # d2 = np.ma.masked_less(np.abs(rho_omega), 1e-12)\n",
    "        # im = axs[theta_idx, omega_idx].imshow(d2, cmap=cmap, norm=LogNorm(1e-12, 1e0), interpolation='none')\n",
    "    # d2 = np.ma.masked_less(np.abs(rho), 1e-12)\n",
    "    # axs[1, theta_idx].imshow(d2, cmap=cmap, norm=LogNorm(1e-12, 1e0), interpolation='none')\n",
    "# fig.tight_layout()"
   ]
  },
  {
   "cell_type": "code",
   "execution_count": 31,
   "metadata": {},
   "outputs": [
    {
     "name": "stdout",
     "output_type": "stream",
     "text": [
      "256\n"
     ]
    }
   ],
   "source": [
    "import importlib\n",
    "import circuit_obj, functions\n",
    "importlib.reload(circuit_obj)\n",
    "importlib.reload(functions)\n",
    "Circuit = circuit_obj.Circuit\n",
    "fn = functions"
   ]
  },
  {
   "cell_type": "code",
   "execution_count": null,
   "metadata": {},
   "outputs": [],
   "source": []
  },
  {
   "cell_type": "code",
   "execution_count": 32,
   "metadata": {},
   "outputs": [
    {
     "name": "stdout",
     "output_type": "stream",
     "text": [
      "Loaded U1 parameters\n"
     ]
    },
    {
     "data": {
      "text/plain": [
       "2"
      ]
     },
     "execution_count": 32,
     "metadata": {},
     "output_type": "execute_result"
    }
   ],
   "source": [
    "circuits = []\n",
    "circuit_realizations_max = 100\n",
    "if symmetry == 'U1':\n",
    "    try:\n",
    "        h_list_all = np.load(f'data/U1_rnd_parameters.npy')\n",
    "        print('Loaded U1 parameters')\n",
    "    except FileNotFoundError:\n",
    "        h_list_all = np.random.uniform(-np.pi, np.pi, 5*N*circuit_realizations_max).reshape(circuit_realizations_max, N, 5) /alphaT\n",
    "        np.save(f'data/U1_rnd_parameters.npy', h_list_all)\n",
    "        print('Generated U1 parameters')\n",
    "elif symmetry == 'SU2':\n",
    "    try:\n",
    "        h_list_all = np.load(f'data/SU2_rnd_parameters.npy')\n",
    "    except FileNotFoundError:\n",
    "        h_list_all = np.random.uniform(-np.pi, np.pi, 1*N*circuit_realizations_max).reshape(circuit_realizations_max, N, 1) /alphaT\n",
    "        np.save(f'data/SU2_rnd_parameters.npy', h_list_all)\n",
    "        \n",
    "snapshots_t = np.array([t for t in [0, 10, 50, 100, 300, 500, 1000] if t <= T])\n",
    "\n",
    "\n",
    "for circuit_realization in range(circuit_realizations):\n",
    "    if symmetry == 'U1':\n",
    "        h_list = h_list_all[circuit_realization]\n",
    "        gates = [fn.gen_u1([*h]) for h in h_list]\n",
    "    elif symmetry == 'SU2':\n",
    "        h_list = h_list_all[circuit_realization]\n",
    "        gates = [fn.gen_su2(*h) for h in h_list]\n",
    "\n",
    "    order = fn.gen_gates_order(N, geometry=geometry)    \n",
    "    circuit = Circuit(N=N, T=T, gates=gates, order=order, symmetry=symmetry)\n",
    "    circuit.projectors = projectors_s\n",
    "    circuit.U_U1_s = U_U1_s\n",
    "    circuit.sectors_s = sectors_s\n",
    "    circuit.Ns = Ns\n",
    "    circuit.snapshots_t = snapshots_t\n",
    "    circuits.append(circuit)\n",
    "len(circuits)"
   ]
  },
  {
   "cell_type": "code",
   "execution_count": 33,
   "metadata": {},
   "outputs": [
    {
     "name": "stderr",
     "output_type": "stream",
     "text": [
      "  0%|          | 0/6 [00:00<?, ?it/s]"
     ]
    },
    {
     "name": "stdout",
     "output_type": "stream",
     "text": [
      "circuit_realization: 0, theta: 0.30 pi\n"
     ]
    },
    {
     "name": "stderr",
     "output_type": "stream",
     "text": [
      " 17%|█▋        | 1/6 [05:49<29:09, 349.97s/it]"
     ]
    },
    {
     "name": "stdout",
     "output_type": "stream",
     "text": [
      "circuit_realization: 1, theta: 0.30 pi\n"
     ]
    },
    {
     "name": "stderr",
     "output_type": "stream",
     "text": [
      " 33%|███▎      | 2/6 [12:00<24:08, 362.19s/it]"
     ]
    },
    {
     "name": "stdout",
     "output_type": "stream",
     "text": [
      "circuit_realization: 0, theta: 0.40 pi\n"
     ]
    },
    {
     "name": "stderr",
     "output_type": "stream",
     "text": [
      " 50%|█████     | 3/6 [18:19<18:29, 369.71s/it]"
     ]
    },
    {
     "name": "stdout",
     "output_type": "stream",
     "text": [
      "circuit_realization: 1, theta: 0.40 pi\n"
     ]
    },
    {
     "name": "stderr",
     "output_type": "stream",
     "text": [
      " 67%|██████▋   | 4/6 [24:43<12:31, 375.60s/it]"
     ]
    },
    {
     "name": "stdout",
     "output_type": "stream",
     "text": [
      "circuit_realization: 0, theta: 0.50 pi\n"
     ]
    },
    {
     "name": "stderr",
     "output_type": "stream",
     "text": [
      " 83%|████████▎ | 5/6 [31:12<06:20, 380.23s/it]"
     ]
    },
    {
     "name": "stdout",
     "output_type": "stream",
     "text": [
      "circuit_realization: 1, theta: 0.50 pi\n"
     ]
    },
    {
     "name": "stderr",
     "output_type": "stream",
     "text": [
      "100%|██████████| 6/6 [37:44<00:00, 377.35s/it]\n"
     ]
    }
   ],
   "source": [
    "def compute_circuit(theta, circuit_real):\n",
    "    circuit = circuits[circuit_real]\n",
    "    rho = fn.initial_state(N, sites_to_keep, theta, 'homogenous') # initial_state_test(theta)\n",
    "    return circuit.run(masks_dict, sites_to_keep, alphas, rho)\n",
    "\n",
    "if globals().get('renyi') is None or globals(\n",
    "    ).get('renyi').shape != (circuit_realizations, len(thetas), len(alphas), T + 1):\n",
    "    renyi = np.zeros((circuit_realizations, len(thetas), len(alphas), T + 1), dtype=np.float64)\n",
    "    \n",
    "if globals().get('norms_s') is None or globals(\n",
    "    ).get('norms_s').shape != (circuit_realizations, len(thetas), T + 1, Ns+1):\n",
    "    norms_s = np.zeros((circuit_realizations, len(thetas), T + 1, Ns+1), dtype=np.float64)\n",
    "    \n",
    "if globals().get('evo') is None or globals(\n",
    "    ).get('evo').shape != (circuit_realizations, len(thetas), T + 1, 2**N):\n",
    "    evo = np.zeros((circuit_realizations, len(thetas), T + 1, 2**N), dtype=np.complex128)\n",
    "\n",
    "for theta_i, circuit_real in tqdm(product(\n",
    "        range(len(thetas)), #\n",
    "        range(circuit_realizations), \n",
    "    ), total=len(thetas) * circuit_realizations):\n",
    "    theta = thetas[theta_i]\n",
    "    print(f'circuit_realization: {circuit_real}, theta: {theta/np.pi:.2f} pi')\n",
    "    a0, a1, a2 = compute_circuit(theta, circuit_real)\n",
    "    renyi[circuit_real, theta_i, :, :], norms_s[circuit_real, theta_i, :, :], evo[circuit_real, theta_i, :, :] = a0, a1, a2\n",
    "    np.savez(f'data/{symmetry}_theta{theta/np.pi:.2f}_circuit_real{circuit_real}_T{T}.npz',\n",
    "            renyi=a0, \n",
    "            norms_s=a1, \n",
    "            evo=a2,\n",
    "            theta=theta,\n",
    "            circuit_real=circuit_real,\n",
    "            alphas=alphas,\n",
    "            T=T,\n",
    "            Ns=Ns,\n",
    "            N=N,\n",
    "        )\n",
    "    "
   ]
  },
  {
   "cell_type": "code",
   "execution_count": 86,
   "metadata": {},
   "outputs": [
    {
     "data": {
      "text/plain": [
       "<matplotlib.legend.Legend at 0x1551c4610>"
      ]
     },
     "execution_count": 86,
     "metadata": {},
     "output_type": "execute_result"
    }
   ],
   "source": [
    "fig, ax = plt.subplots(1, 1, figsize=(16, 8))\n",
    "for theta_idx, theta in enumerate(thetas):\n",
    "    res_ = np.mean(renyi[:, theta_idx, 0, :], axis=0)\n",
    "    # fn.print_matrix(res[:, theta_idx, 0, :])\n",
    "    # print()\n",
    "    ax.plot(res_, label=f'{theta:.2f}', ls='-', marker='.')\n",
    "    \n",
    "ax.set_yscale('log')\n",
    "ax.set_xscale('log')\n",
    "ax.legend()"
   ]
  },
  {
   "cell_type": "code",
   "execution_count": null,
   "metadata": {},
   "outputs": [
    {
     "data": {
      "text/plain": [
       "<matplotlib.legend.Legend at 0x1504da130>"
      ]
     },
     "execution_count": 89,
     "metadata": {},
     "output_type": "execute_result"
    },
    {
     "ename": "",
     "evalue": "",
     "output_type": "error",
     "traceback": [
      "\u001b[1;31mThe Kernel crashed while executing code in the current cell or a previous cell. \n",
      "\u001b[1;31mPlease review the code in the cell(s) to identify a possible cause of the failure. \n",
      "\u001b[1;31mClick <a href='https://aka.ms/vscodeJupyterKernelCrash'>here</a> for more info. \n",
      "\u001b[1;31mView Jupyter <a href='command:jupyter.viewOutput'>log</a> for further details."
     ]
    }
   ],
   "source": [
    "%matplotlib osx \n",
    "fig, ax = plt.subplots(1, 1, figsize=(16, 8))\n",
    "\n",
    "color_ = ax._get_lines.get_next_color()\n",
    "for mode in range(Ns+1):\n",
    "    for theta_idx, theta in enumerate(thetas):\n",
    "        ls_ = ['-','-.',':'][theta_idx%4]\n",
    "        temp_norm = norms_s[0, theta_idx, :, mode].astype(np.float64) #np.mean(norms_s[:, theta_idx, :, mode].astype(np.float64), axis=0)\n",
    "        \n",
    "        ti, tf = 10, T\n",
    "        t = np.arange(ti, tf)\n",
    "        ln_t = np.log(t)\n",
    "        ln_y = np.log(temp_norm[ti:tf])\n",
    "        \n",
    "        # do a simple linear regression: ln_y = C - b*ln_t\n",
    "        A = np.vstack([ln_t, np.ones_like(ln_t)]).T\n",
    "        slope1, intercept1 = np.linalg.lstsq(A, ln_y, rcond=None)[0]\n",
    "        ax.plot(t, np.exp(intercept1 + slope1 * ln_t), color=color_, linewidth=4, alpha=.45)\n",
    "        ax.plot(temp_norm, linestyle=ls_, color=color_, label=rf'$\\omega={mode}, \\theta={theta/np.pi:.2f}$, b={slope1:.10f}')\n",
    "        # ax.plot(temp_norm, '.', color=color_,)\n",
    "        color_ = ax.lines[-1].get_color()\n",
    "    color_ = ax._get_lines.get_next_color()\n",
    "ax.set_yscale('log')\n",
    "ax.set_xscale('log')\n",
    "ax.legend()"
   ]
  },
  {
   "cell_type": "code",
   "execution_count": 36,
   "metadata": {},
   "outputs": [
    {
     "name": "stderr",
     "output_type": "stream",
     "text": [
      "100%|██████████| 2/2 [00:00<00:00,  2.56it/s]\n"
     ]
    },
    {
     "name": "stdout",
     "output_type": "stream",
     "text": [
      "0 0\n",
      "SYS:  ['0: 1.00', '1: 0.87', '2: 0.61', '3: 0.36', '4: 0.17', '5: 0.07', '6: 0.02', '7: 0.01', '8: 0.00']\n"
     ]
    },
    {
     "ename": "ValueError",
     "evalue": "Expected a 2D array, got shape ()",
     "output_type": "error",
     "traceback": [
      "\u001b[0;31m---------------------------------------------------------------------------\u001b[0m",
      "\u001b[0;31mValueError\u001b[0m                                Traceback (most recent call last)",
      "Cell \u001b[0;32mIn[36], line 29\u001b[0m\n\u001b[1;32m     27\u001b[0m         modeee \u001b[38;5;241m=\u001b[39m [fn\u001b[38;5;241m.\u001b[39mcompute_norm(rho_omega) \u001b[38;5;28;01mfor\u001b[39;00m omega_idx, rho_omega \u001b[38;5;129;01min\u001b[39;00m \u001b[38;5;28menumerate\u001b[39m(rho_e_modes)]\n\u001b[1;32m     28\u001b[0m         modes_e[theta_idx, t, :] \u001b[38;5;241m=\u001b[39m modeee\n\u001b[0;32m---> 29\u001b[0m         \u001b[38;5;28mprint\u001b[39m(\u001b[38;5;124m'\u001b[39m\u001b[38;5;124mENV: \u001b[39m\u001b[38;5;124m'\u001b[39m, [\u001b[38;5;124mf\u001b[39m\u001b[38;5;124m'\u001b[39m\u001b[38;5;132;01m{\u001b[39;00momega_idx\u001b[38;5;132;01m}\u001b[39;00m\u001b[38;5;124m: \u001b[39m\u001b[38;5;132;01m{\u001b[39;00mfn\u001b[38;5;241m.\u001b[39mcompute_norm(rho_omega)\u001b[38;5;132;01m:\u001b[39;00m\u001b[38;5;124m.2f\u001b[39m\u001b[38;5;132;01m}\u001b[39;00m\u001b[38;5;124m'\u001b[39m \u001b[38;5;28;01mfor\u001b[39;00m omega_idx, rho_omega \u001b[38;5;129;01min\u001b[39;00m \u001b[38;5;28menumerate\u001b[39m(modeee)])\n\u001b[1;32m     30\u001b[0m         avg_e[theta_idx, t, :] \u001b[38;5;241m=\u001b[39m [np\u001b[38;5;241m.\u001b[39msum(np\u001b[38;5;241m.\u001b[39mabs(rho_e_mode)) \u001b[38;5;28;01mfor\u001b[39;00m rho_e_mode \u001b[38;5;129;01min\u001b[39;00m rho_e_modes]\n\u001b[1;32m     33\u001b[0m fig\u001b[38;5;241m.\u001b[39mtight_layout()\n",
      "Cell \u001b[0;32mIn[36], line 29\u001b[0m, in \u001b[0;36m<listcomp>\u001b[0;34m(.0)\u001b[0m\n\u001b[1;32m     27\u001b[0m         modeee \u001b[38;5;241m=\u001b[39m [fn\u001b[38;5;241m.\u001b[39mcompute_norm(rho_omega) \u001b[38;5;28;01mfor\u001b[39;00m omega_idx, rho_omega \u001b[38;5;129;01min\u001b[39;00m \u001b[38;5;28menumerate\u001b[39m(rho_e_modes)]\n\u001b[1;32m     28\u001b[0m         modes_e[theta_idx, t, :] \u001b[38;5;241m=\u001b[39m modeee\n\u001b[0;32m---> 29\u001b[0m         \u001b[38;5;28mprint\u001b[39m(\u001b[38;5;124m'\u001b[39m\u001b[38;5;124mENV: \u001b[39m\u001b[38;5;124m'\u001b[39m, [\u001b[38;5;124mf\u001b[39m\u001b[38;5;124m'\u001b[39m\u001b[38;5;132;01m{\u001b[39;00momega_idx\u001b[38;5;132;01m}\u001b[39;00m\u001b[38;5;124m: \u001b[39m\u001b[38;5;132;01m{\u001b[39;00mfn\u001b[38;5;241m.\u001b[39mcompute_norm(rho_omega)\u001b[38;5;132;01m:\u001b[39;00m\u001b[38;5;124m.2f\u001b[39m\u001b[38;5;132;01m}\u001b[39;00m\u001b[38;5;124m'\u001b[39m \u001b[38;5;28;01mfor\u001b[39;00m omega_idx, rho_omega \u001b[38;5;129;01min\u001b[39;00m \u001b[38;5;28menumerate\u001b[39m(modeee)])\n\u001b[1;32m     30\u001b[0m         avg_e[theta_idx, t, :] \u001b[38;5;241m=\u001b[39m [np\u001b[38;5;241m.\u001b[39msum(np\u001b[38;5;241m.\u001b[39mabs(rho_e_mode)) \u001b[38;5;28;01mfor\u001b[39;00m rho_e_mode \u001b[38;5;129;01min\u001b[39;00m rho_e_modes]\n\u001b[1;32m     33\u001b[0m fig\u001b[38;5;241m.\u001b[39mtight_layout()\n",
      "File \u001b[0;32m~/Development_local/phd/u1_su2_mbemba/circuits/functions.py:2784\u001b[0m, in \u001b[0;36mcompute_norm\u001b[0;34m(op)\u001b[0m\n\u001b[1;32m   2782\u001b[0m A \u001b[38;5;241m=\u001b[39m np\u001b[38;5;241m.\u001b[39masarray(op, dtype\u001b[38;5;241m=\u001b[39mnp\u001b[38;5;241m.\u001b[39mcomplex128)\n\u001b[1;32m   2783\u001b[0m \u001b[38;5;28;01mif\u001b[39;00m A\u001b[38;5;241m.\u001b[39mndim \u001b[38;5;241m!=\u001b[39m \u001b[38;5;241m2\u001b[39m:\n\u001b[0;32m-> 2784\u001b[0m     \u001b[38;5;28;01mraise\u001b[39;00m \u001b[38;5;167;01mValueError\u001b[39;00m(\u001b[38;5;124mf\u001b[39m\u001b[38;5;124m\"\u001b[39m\u001b[38;5;124mExpected a 2D array, got shape \u001b[39m\u001b[38;5;132;01m{\u001b[39;00mA\u001b[38;5;241m.\u001b[39mshape\u001b[38;5;132;01m}\u001b[39;00m\u001b[38;5;124m\"\u001b[39m)\n\u001b[1;32m   2786\u001b[0m \u001b[38;5;66;03m# 2) Compute singular values via SVD (more stable than sqrtm of A A^*)\u001b[39;00m\n\u001b[1;32m   2787\u001b[0m \u001b[38;5;66;03m#    Only singular values are needed, so compute_uv=False\u001b[39;00m\n\u001b[1;32m   2788\u001b[0m s \u001b[38;5;241m=\u001b[39m np\u001b[38;5;241m.\u001b[39mlinalg\u001b[38;5;241m.\u001b[39msvd(A, compute_uv\u001b[38;5;241m=\u001b[39m\u001b[38;5;28;01mFalse\u001b[39;00m)\n",
      "\u001b[0;31mValueError\u001b[0m: Expected a 2D array, got shape ()"
     ]
    }
   ],
   "source": [
    "%matplotlib osx\n",
    "# fig, axs = plt.subplots(len(snapshots_t[-2:]), len(thetas), figsize=(12, 8))\n",
    "renyis = []\n",
    "modes_e = np.zeros((len(thetas), len(snapshots_t), Ne+1))\n",
    "avg_s = np.zeros((len(thetas), len(snapshots_t), Ns+1))\n",
    "avg_e = np.zeros((len(thetas), len(snapshots_t), Ne+1))\n",
    "for theta_idx, theta in enumerate(thetas):\n",
    "    for t in range(T):\n",
    "        \n",
    "        rho_s = np.zeros((2**Ns, 2**Ns), dtype=np.complex128)\n",
    "        rho_e = np.zeros((2**Ne, 2**Ne), dtype=np.complex128)\n",
    "        for circuit_real in tqdm(range(circuit_realizations)):\n",
    "            state = evo[circuit_real,theta_idx,t,:]\n",
    "            rho_s += fn.ptrace(state, sites_to_keep)\n",
    "            rho_e += fn.ptrace(state, qthrow)\n",
    "        rho_s /= circuit_realizations\n",
    "        rho_e /= circuit_realizations\n",
    "        rho_s_U1 = U_U1_s.conj().T @ rho_s @ U_U1_s \n",
    "        rho_e_U1 = U_U1_e.conj().T @ rho_e @ U_U1_e\n",
    "        # d2 = np.ma.masked_less(np.abs(rho_s_U1), 1e-12)\n",
    "        # im = axs[time_idx, theta_idx].imshow(d2, cmap=cmap, norm=LogNorm(1e-12, 1e0), interpolation='none')\n",
    "        rho_s_modes = fn.asymmetry_modes(rho_s_U1, sectors_s)\n",
    "        print(theta_idx, t, )\n",
    "        print('SYS: ', [f'{omega_idx}: {fn.compute_norm(rho_omega):.2f}' for omega_idx, rho_omega in enumerate(rho_s_modes)])\n",
    "        avg_s[theta_idx, t, :] = [np.sum(np.abs(rho_s_mode)) for rho_s_mode in rho_s_modes]\n",
    "        rho_e_modes = fn.asymmetry_modes(rho_e_U1, sectors_e)\n",
    "        modeee = [fn.compute_norm(rho_omega) for omega_idx, rho_omega in enumerate(rho_e_modes)]\n",
    "        modes_e[theta_idx, t, :] = modeee\n",
    "        print('ENV: ', [f'{omega_idx}: {fn.compute_norm(rho_omega):.2f}' for omega_idx, rho_omega in enumerate(modeee)])\n",
    "        avg_e[theta_idx, t, :] = [np.sum(np.abs(rho_e_mode)) for rho_e_mode in rho_e_modes]\n",
    "        \n",
    "    \n",
    "fig.tight_layout()"
   ]
  },
  {
   "cell_type": "code",
   "execution_count": 77,
   "metadata": {},
   "outputs": [],
   "source": [
    "cum_sectors_s = np.cumsum(sectors_s)\n",
    "def get_sector_avg(pts):\n",
    "    new_pts = np.zeros_like(pts)\n",
    "    start = 0\n",
    "    avgs = np.zeros_like(cum_sectors_s, np.float64)\n",
    "    for sector_idx, end in enumerate(cum_sectors_s):\n",
    "        temp_avg = np.mean(pts[start:end])\n",
    "        new_pts[start:end] = temp_avg\n",
    "        avgs[sector_idx] = temp_avg\n",
    "        start = end\n",
    "    return new_pts, avgs"
   ]
  },
  {
   "cell_type": "code",
   "execution_count": 82,
   "metadata": {},
   "outputs": [
    {
     "name": "stdout",
     "output_type": "stream",
     "text": [
      "[1.57795330e-01 4.09662213e-02 1.06354940e-02 2.76114637e-03\n",
      " 7.16838284e-04 1.86102820e-04 4.83153038e-05 1.25434348e-05\n",
      " 3.25647867e-06]\n",
      "[2.99064805e-01 5.70203124e-02 6.60884447e-03 9.30571884e-04\n",
      " 1.01015798e-04 9.12402569e-06 1.04088353e-06 2.25538065e-07\n",
      " 2.51465628e-08]\n",
      "[3.12005086e-01 6.20233119e-02 5.81287701e-03 4.89769351e-04\n",
      " 2.21093289e-05 1.26268142e-06 8.55942528e-08 2.31477522e-09\n",
      " 5.25784447e-11]\n",
      "[0.03367614 0.01777642 0.00938353 0.00495323 0.00261463 0.00138017\n",
      " 0.00072854 0.00038457 0.000203  ]\n",
      "[1.27926891e-01 4.68052537e-02 1.06534947e-02 2.73543374e-03\n",
      " 5.67631032e-04 1.03190990e-04 2.05083270e-05 7.53390202e-06\n",
      " 1.56757872e-06]\n",
      "[1.76828492e-01 5.62341194e-02 9.90615800e-03 1.51322795e-03\n",
      " 1.47228254e-04 1.48869132e-05 1.60944502e-06 8.13792223e-08\n",
      " 3.27761895e-09]\n",
      "[0.00390625 0.00390625 0.00390625 0.00390625 0.00390625 0.00390625\n",
      " 0.00390625 0.00390625 0.00390625]\n",
      "[4.67553567e-02 2.78720213e-02 1.13168789e-02 4.69906319e-03\n",
      " 1.64959034e-03 5.26177495e-04 1.63576936e-04 8.75929601e-05\n",
      " 3.01641040e-05]\n",
      "[1.02894080e-01 4.31559518e-02 1.22619108e-02 2.97315989e-03\n",
      " 5.28642101e-04 8.33642356e-05 1.23693433e-05 1.01271267e-06\n",
      " 6.30695210e-08]\n"
     ]
    }
   ],
   "source": [
    "%matplotlib osx\n",
    "fig, axs = plt.subplots(3, len(thetas), figsize=(12, 10))\n",
    "fig, axs1 = plt.subplots(2, 1, figsize=(8, 10))\n",
    "for yline in cum_sectors_s:\n",
    "    axs1[0].axvline(yline, color='k', linestyle='--', alpha=.5)\n",
    "renyis = []\n",
    "for theta_idx, theta in enumerate(thetas):\n",
    "    t = 0\n",
    "    # rho_s = np.zeros((2**Ns, 2**Ns), dtype=np.complex128)\n",
    "    # for circuit_real in tqdm(range(circuit_realizations)):\n",
    "    state = evo[circuit_real,theta_idx,t,:]\n",
    "    rho_s = fn.ptrace(state, sites_to_keep)\n",
    "    # rho_s /= circuit_realizations\n",
    "    rho_s_U1 = U_U1_s.conj().T @ rho_s @ U_U1_s \n",
    "    # for omega_idx, rho_omega in enumerate([rho_modes[0]]):\n",
    "    #     d2 = np.ma.masked_less(np.abs(rho_omega), 1e-12)\n",
    "    #     im = axs[0, theta_idx].imshow(d2, cmap=cmap, norm=LogNorm(1e-12, 1e0), interpolation='none')\n",
    "    d2 = np.ma.masked_less(np.abs(rho_s_U1), 1e-12)\n",
    "    im = axs[0, theta_idx].imshow(d2, cmap=cmap, norm=LogNorm(1e-12, 1e0), interpolation='none')\n",
    "    diag = np.diag(d2)\n",
    "    diag_avg, avgs = get_sector_avg(diag)\n",
    "    print(avgs)\n",
    "    axs1[0].plot(diag_avg, alpha=.5, linewidth=2)\n",
    "    axs1[0].plot(diag, label=f'{theta:.2f}, t={t}', ls='-')\n",
    "    ax1s[1].plot(avgs, label=f'{theta:.2f}, t={t}', ls='-')\n",
    "    \n",
    "    \n",
    "    t = 20\n",
    "    state = evo[circuit_real,theta_idx,t,:]\n",
    "    rho_s = fn.ptrace(state, sites_to_keep)\n",
    "    rho_s_U1 = U_U1_s.conj().T @ rho_s @ U_U1_s     \n",
    "    d2 = np.ma.masked_less(np.abs(rho_s_U1), 1e-12)\n",
    "    im = axs[1, theta_idx].imshow(d2, cmap=cmap, norm=LogNorm(1e-12, 1e0), interpolation='none')\n",
    "    color_ = axs1[0].lines[-1].get_color()\n",
    "    diag = np.diag(d2)\n",
    "    diag_avg, avgs = get_sector_avg(diag)\n",
    "    print(avgs)\n",
    "    axs1[0].plot(diag_avg, alpha=.5, linewidth=2, color=color_)\n",
    "    axs1[0].plot(diag, label=f'{theta:.2f}, t={t}', ls='--', color=color_)\n",
    "    ax1s[1].plot(avgs, label=f'{theta:.2f}, t={t}', ls='--', color=color_)\n",
    "    \n",
    "    \n",
    "    t = T-1\n",
    "    state = evo[circuit_real,theta_idx,t,:]\n",
    "    rho_s = fn.ptrace(state, sites_to_keep)\n",
    "    rho_s_U1 = U_U1_s.conj().T @ rho_s @ U_U1_s     \n",
    "    d2 = np.ma.masked_less(np.abs(rho_s_U1), 1e-12)\n",
    "    im = axs[2, theta_idx].imshow(d2, cmap=cmap, norm=LogNorm(1e-12, 1e0), interpolation='none')\n",
    "    diag = np.diag(d2)\n",
    "    diag_avg, avgs = get_sector_avg(diag)\n",
    "    print(avgs)\n",
    "    axs1[0].plot(diag_avg, alpha=.5, linewidth=2, color=color_)\n",
    "    axs1[0].plot(diag, label=f'{theta:.2f}, t={t}', ls=':', color=color_)\n",
    "    ax1s[1].plot(avgs, label=f'{theta:.2f}, t={t}', ls=':', color=color_)\n",
    "    ax1s[0].plot(cum_sectors_s, avgs, label=f'{theta:.2f}, t={t}', ls=':', color=color_, linewidth=2, marker='o')\n",
    "axs1[0].legend()\n",
    "axs1[0].set_yscale('log')  \n",
    "axs1[1].set_yscale('log')  \n",
    "fig.tight_layout()"
   ]
  },
  {
   "cell_type": "code",
   "execution_count": null,
   "metadata": {},
   "outputs": [],
   "source": []
  },
  {
   "cell_type": "code",
   "execution_count": null,
   "metadata": {},
   "outputs": [],
   "source": [
    "def size_omega_subspace(Ns):\n",
    "    \"\"\"\n",
    "    Calculate the size of the omega subspace for a given number of qubits Ns.\n",
    "    The size of the omega subspace is defined as the number of ways to choose\n",
    "    m1 and m2 such that m1 - m2 = omega, where m1 and m2 are the number of\n",
    "    qubits in the first and second half of the system, respectively.\n",
    "    \"\"\"\n",
    "    # Initialize a dictionary to store the size of the omega subspace\n",
    "    size_omega = {}\n",
    "\n",
    "    for m1 in np.arange(-Ns/2, Ns/2+1):\n",
    "        for m2 in np.arange(-Ns/2, Ns/2+1):\n",
    "            omega_key = int(m1 - m2)\n",
    "            # print(m1, m2, end='; ')\n",
    "            if omega_key not in size_omega:\n",
    "                size_omega[omega_key] = 0\n",
    "            size_omega[omega_key] += comb(Ns, int(Ns/2+m1)) * comb(Ns, int(Ns/2+m2))\n",
    "\n",
    "    # sort the dictionary by key\n",
    "    sorted_size_omega = dict(sorted(size_omega.items()))\n",
    "    size_omega = {}\n",
    "    # print the sorted dictionary\n",
    "    for key, value in sorted_size_omega.items():\n",
    "        if key>0:\n",
    "            # print(f\"{key}: {value*2}\")\n",
    "            size_omega[key] = value*2\n",
    "            \n",
    "    # convert the dictionary to a numpy array\n",
    "    size_omega_array = np.array(list(size_omega.values())[::-1], dtype=np.float64)\n",
    "    # print the numpy array\n",
    "    return size_omega #size_omega_array\n",
    "\n",
    "size_omega_subspace(N)[7]"
   ]
  },
  {
   "cell_type": "code",
   "execution_count": null,
   "metadata": {},
   "outputs": [],
   "source": []
  },
  {
   "cell_type": "code",
   "execution_count": null,
   "metadata": {},
   "outputs": [],
   "source": []
  },
  {
   "cell_type": "code",
   "execution_count": null,
   "metadata": {},
   "outputs": [],
   "source": [
    "fig, ax = plt.subplots(1, 1, figsize=(6, 6))\n",
    "\n",
    "state = np.mean(evo[:, 4, T-1, :], axis=0)\n",
    "rho_s = fn.ptrace(state, sites_to_keep)\n",
    "rho_s_tw = fn.manual_U1_tw(rho_s, projectors_s)\n",
    "rho_s_U1 = U_U1_s.conj().T @ (rho_s - rho_s_tw) @ U_U1_s\n",
    "rho_s_U1 = U_U1_s.conj().T @ (rho_s) @ U_U1_s\n",
    "rho_s_modes = fn.asymmetry_modes(rho_s_U1, sectors_s)\n",
    "\n",
    "rho_eq = rho_s_U1.copy()\n",
    "d1 = np.ma.masked_less(np.abs(rho_s_U1), 1e-12)\n",
    "\n",
    "rho_eq[rho_eq != 0] = np.mean(d1)\n",
    "\n",
    "\n",
    "cmap = cm.plasma.copy()\n",
    "cmap.set_bad(color='white')  # or 'none' for full transparency\n",
    "\n",
    "ax.imshow(np.abs(d1), cmap=cmap, norm=LogNorm(1e-12, 1e0), interpolation='none') \n",
    "\n",
    "from scipy.sparse import csr_matrix\n",
    "# print(csr_matrix(d1))\n",
    "np.mean(d1), np.std(d1),  np.max(d1), np.min(d1)"
   ]
  },
  {
   "cell_type": "code",
   "execution_count": null,
   "metadata": {},
   "outputs": [],
   "source": [
    "(0.000715776840252967, 7.666467083416871e-20)\n",
    "(0.00020219214750874813, 8.464466801715275e-05)\n",
    "(9.286443172843784e-05, 5.5277308879935246e-05)\n",
    "(8.18469776915174e-05, 4.591417324268909e-05)\n",
    "(7.19991515530784e-05, 4.192462579240732e-05)\n",
    "(5.525441391170834e-05, 3.1446906009458656e-05)\n",
    "(, 2.4.8989316690781734e-05784783389054931e-05)\n",
    "\n"
   ]
  },
  {
   "cell_type": "code",
   "execution_count": null,
   "metadata": {},
   "outputs": [],
   "source": []
  },
  {
   "cell_type": "code",
   "execution_count": null,
   "metadata": {},
   "outputs": [],
   "source": []
  },
  {
   "cell_type": "code",
   "execution_count": null,
   "metadata": {},
   "outputs": [],
   "source": []
  },
  {
   "cell_type": "code",
   "execution_count": null,
   "metadata": {},
   "outputs": [],
   "source": []
  },
  {
   "cell_type": "code",
   "execution_count": null,
   "metadata": {},
   "outputs": [],
   "source": []
  },
  {
   "cell_type": "code",
   "execution_count": null,
   "metadata": {},
   "outputs": [],
   "source": []
  },
  {
   "cell_type": "code",
   "execution_count": null,
   "metadata": {},
   "outputs": [],
   "source": []
  },
  {
   "cell_type": "code",
   "execution_count": null,
   "metadata": {},
   "outputs": [],
   "source": []
  },
  {
   "cell_type": "code",
   "execution_count": null,
   "metadata": {},
   "outputs": [],
   "source": []
  }
 ],
 "metadata": {
  "kernelspec": {
   "display_name": "impurity_continuous",
   "language": "python",
   "name": "python3"
  },
  "language_info": {
   "codemirror_mode": {
    "name": "ipython",
    "version": 3
   },
   "file_extension": ".py",
   "mimetype": "text/x-python",
   "name": "python",
   "nbconvert_exporter": "python",
   "pygments_lexer": "ipython3",
   "version": "3.9.21"
  }
 },
 "nbformat": 4,
 "nbformat_minor": 2
}
